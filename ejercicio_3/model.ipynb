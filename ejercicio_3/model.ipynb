{
 "cells": [
  {
   "cell_type": "markdown",
   "metadata": {},
   "source": [
    "# Ejercicio 3\n",
    "\n",
    "*Tobias Pucci Romero*\n",
    "\n",
    "### Objetivo: \n",
    "\n",
    "Los galpones de Full de mercado libre cuentan con una flota de dispositivos que transmiten\n",
    "diariamente telemetría agregada en varios atributos.\n",
    "Las técnicas de mantenimiento predictivo están diseñadas para ayudar a determinar la\n",
    "condición del equipo de mantenimiento en servicio para predecir cuándo se debe realizar el\n",
    "mantenimiento. Este enfoque promete ahorros de costos sobre el mantenimiento preventivo\n",
    "de rutina o basado en el tiempo porque las tareas se realizan solo cuando están justificadas.\n",
    "\n",
    "\n",
    "Tiene la tarea de generar una Jupyter notebook con un modelo predictivo para predecir la\n",
    "probabilidad de falla del dispositivo con el objetivo de bajar los costos del proceso. Como\n",
    "una referencia, una falla de un dispositivo tiene un costo de 1 mientras el costo de un\n",
    "mantenimiento es 0,5. El archivo \"full_devices.csv\" tiene los valores diarios para los 9\n",
    "atributos de los dispositivos y la columna que está tratando de predecir se llama 'failure' con\n",
    "el valor binario 0 para no fallar y 1 para fallar."
   ]
  },
  {
   "cell_type": "markdown",
   "metadata": {},
   "source": [
    "Remarquemos lo relevante: \n",
    "\n",
    "1) Clasico ejercicio de clasificación binaria\n",
    "2) Features que ya parecen preprocesadas para no tener que repetir eda\n",
    "3) Asimetria de costos, donde es mas caro fallar que no fallar. Lo que queremos entonces es minimizar costos, no minimizar fallas necesariamente"
   ]
  },
  {
   "cell_type": "markdown",
   "metadata": {},
   "source": [
    "### EDA sencillo y limpieza y division de datos"
   ]
  },
  {
   "cell_type": "markdown",
   "metadata": {},
   "source": [
    "Vamos a utilizar conda porque nos facilitará instalar las dependencias luego"
   ]
  },
  {
   "cell_type": "code",
   "execution_count": null,
   "metadata": {},
   "outputs": [],
   "source": [
    "# Dejo como ejemplo de creacion de entorno\n",
    "#!conda create -n meli_challenge python=3.12 numpy pandas scipy scikit-learn -y\n",
    "#!conda install matplotlib seaborn -y\n",
    "#!conda activate meli_challenge\n",
    "#!conda install -c conda-forge lightgbm \n",
    "#!conda install -c conda-forge imbalanced-learn\n",
    "#! pip install -U imbalanced-learn\n",
    "#!pip install xgboost"
   ]
  },
  {
   "cell_type": "code",
   "execution_count": 2,
   "metadata": {},
   "outputs": [
    {
     "data": {
      "text/html": [
       "<div>\n",
       "<style scoped>\n",
       "    .dataframe tbody tr th:only-of-type {\n",
       "        vertical-align: middle;\n",
       "    }\n",
       "\n",
       "    .dataframe tbody tr th {\n",
       "        vertical-align: top;\n",
       "    }\n",
       "\n",
       "    .dataframe thead th {\n",
       "        text-align: right;\n",
       "    }\n",
       "</style>\n",
       "<table border=\"1\" class=\"dataframe\">\n",
       "  <thead>\n",
       "    <tr style=\"text-align: right;\">\n",
       "      <th></th>\n",
       "      <th>date</th>\n",
       "      <th>device</th>\n",
       "      <th>failure</th>\n",
       "      <th>attribute1</th>\n",
       "      <th>attribute2</th>\n",
       "      <th>attribute3</th>\n",
       "      <th>attribute4</th>\n",
       "      <th>attribute5</th>\n",
       "      <th>attribute6</th>\n",
       "      <th>attribute7</th>\n",
       "      <th>attribute8</th>\n",
       "      <th>attribute9</th>\n",
       "    </tr>\n",
       "  </thead>\n",
       "  <tbody>\n",
       "    <tr>\n",
       "      <th>0</th>\n",
       "      <td>2015-01-01</td>\n",
       "      <td>S1F01085</td>\n",
       "      <td>0</td>\n",
       "      <td>215630672</td>\n",
       "      <td>56</td>\n",
       "      <td>0</td>\n",
       "      <td>52</td>\n",
       "      <td>6</td>\n",
       "      <td>407438</td>\n",
       "      <td>0</td>\n",
       "      <td>0</td>\n",
       "      <td>7</td>\n",
       "    </tr>\n",
       "    <tr>\n",
       "      <th>1</th>\n",
       "      <td>2015-01-01</td>\n",
       "      <td>S1F0166B</td>\n",
       "      <td>0</td>\n",
       "      <td>61370680</td>\n",
       "      <td>0</td>\n",
       "      <td>3</td>\n",
       "      <td>0</td>\n",
       "      <td>6</td>\n",
       "      <td>403174</td>\n",
       "      <td>0</td>\n",
       "      <td>0</td>\n",
       "      <td>0</td>\n",
       "    </tr>\n",
       "    <tr>\n",
       "      <th>2</th>\n",
       "      <td>2015-01-01</td>\n",
       "      <td>S1F01E6Y</td>\n",
       "      <td>0</td>\n",
       "      <td>173295968</td>\n",
       "      <td>0</td>\n",
       "      <td>0</td>\n",
       "      <td>0</td>\n",
       "      <td>12</td>\n",
       "      <td>237394</td>\n",
       "      <td>0</td>\n",
       "      <td>0</td>\n",
       "      <td>0</td>\n",
       "    </tr>\n",
       "    <tr>\n",
       "      <th>3</th>\n",
       "      <td>2015-01-01</td>\n",
       "      <td>S1F01JE0</td>\n",
       "      <td>0</td>\n",
       "      <td>79694024</td>\n",
       "      <td>0</td>\n",
       "      <td>0</td>\n",
       "      <td>0</td>\n",
       "      <td>6</td>\n",
       "      <td>410186</td>\n",
       "      <td>0</td>\n",
       "      <td>0</td>\n",
       "      <td>0</td>\n",
       "    </tr>\n",
       "    <tr>\n",
       "      <th>4</th>\n",
       "      <td>2015-01-01</td>\n",
       "      <td>S1F01R2B</td>\n",
       "      <td>0</td>\n",
       "      <td>135970480</td>\n",
       "      <td>0</td>\n",
       "      <td>0</td>\n",
       "      <td>0</td>\n",
       "      <td>15</td>\n",
       "      <td>313173</td>\n",
       "      <td>0</td>\n",
       "      <td>0</td>\n",
       "      <td>3</td>\n",
       "    </tr>\n",
       "  </tbody>\n",
       "</table>\n",
       "</div>"
      ],
      "text/plain": [
       "         date    device  failure  attribute1  attribute2  attribute3  \\\n",
       "0  2015-01-01  S1F01085        0   215630672          56           0   \n",
       "1  2015-01-01  S1F0166B        0    61370680           0           3   \n",
       "2  2015-01-01  S1F01E6Y        0   173295968           0           0   \n",
       "3  2015-01-01  S1F01JE0        0    79694024           0           0   \n",
       "4  2015-01-01  S1F01R2B        0   135970480           0           0   \n",
       "\n",
       "   attribute4  attribute5  attribute6  attribute7  attribute8  attribute9  \n",
       "0          52           6      407438           0           0           7  \n",
       "1           0           6      403174           0           0           0  \n",
       "2           0          12      237394           0           0           0  \n",
       "3           0           6      410186           0           0           0  \n",
       "4           0          15      313173           0           0           3  "
      ]
     },
     "execution_count": 2,
     "metadata": {},
     "output_type": "execute_result"
    }
   ],
   "source": [
    "# Importamos las librerias necesarias\n",
    "import pandas as pd\n",
    "import numpy as np\n",
    "\n",
    "# Leemos el archivo csv\n",
    "df = pd.read_csv('full_devices.csv', encoding='latin-1')\n",
    "\n",
    "# Mostramos las primeras filas del dataset\n",
    "df.head()\n"
   ]
  },
  {
   "cell_type": "code",
   "execution_count": 3,
   "metadata": {},
   "outputs": [
    {
     "name": "stdout",
     "output_type": "stream",
     "text": [
      "Conjunto de entrenamiento:\n",
      "- Tamaño: 87145 (70.0%)\n",
      "- Rango de fechas: 2015-01-01 a 2015-05-30\n",
      "\n",
      "Conjunto de validación:\n",
      "- Tamaño: 18674 (15.0%)\n",
      "- Rango de fechas: 2015-05-30 a 2015-07-23\n",
      "\n",
      "Conjunto de prueba:\n",
      "- Tamaño: 18675 (15.0%)\n",
      "- Rango de fechas: 2015-07-23 a 2015-11-02\n"
     ]
    }
   ],
   "source": [
    "# Primero que nada, dividimos el dataset en 3 grupos, train validacion y test por fecha\n",
    "\n",
    "# Ordenamos el dataset por fecha\n",
    "df = df.sort_values('date')\n",
    "\n",
    "# Calculamos los puntos de corte para train (70%), validation (15%) y test (15%)\n",
    "n_total = len(df)\n",
    "n_train = int(n_total * 0.7)\n",
    "n_val = int(n_total * 0.15)\n",
    "\n",
    "# Dividimos los datos por fecha\n",
    "df_train = df.iloc[:n_train]\n",
    "df_val = df.iloc[n_train:n_train+n_val] \n",
    "df_test = df.iloc[n_train+n_val:]\n",
    "\n",
    "# Separamos features y target para cada conjunto\n",
    "X_train = df_train.drop(['failure', 'date', 'device'], axis=1)\n",
    "y_train = df_train['failure']\n",
    "\n",
    "X_val = df_val.drop(['failure', 'date', 'device'], axis=1)\n",
    "y_val = df_val['failure']\n",
    "\n",
    "X_test = df_test.drop(['failure', 'date', 'device'], axis=1)\n",
    "y_test = df_test['failure']\n",
    "\n",
    "# Verificamos las proporciones y fechas\n",
    "print(f\"Conjunto de entrenamiento:\")\n",
    "print(f\"- Tamaño: {len(X_train)} ({len(X_train)/n_total*100:.1f}%)\")\n",
    "print(f\"- Rango de fechas: {df_train['date'].min()} a {df_train['date'].max()}\")\n",
    "\n",
    "print(f\"\\nConjunto de validación:\")\n",
    "print(f\"- Tamaño: {len(X_val)} ({len(X_val)/n_total*100:.1f}%)\")\n",
    "print(f\"- Rango de fechas: {df_val['date'].min()} a {df_val['date'].max()}\")\n",
    "\n",
    "print(f\"\\nConjunto de prueba:\")\n",
    "print(f\"- Tamaño: {len(X_test)} ({len(X_test)/n_total*100:.1f}%)\")\n",
    "print(f\"- Rango de fechas: {df_test['date'].min()} a {df_test['date'].max()}\")\n"
   ]
  },
  {
   "cell_type": "code",
   "execution_count": 4,
   "metadata": {},
   "outputs": [
    {
     "name": "stdout",
     "output_type": "stream",
     "text": [
      "\n",
      "Análisis de duplicados en conjunto de entrenamiento:\n",
      "Número de filas duplicadas: 0\n"
     ]
    }
   ],
   "source": [
    "# Verificamos si hay filas duplicadas en df_train\n",
    "print(\"\\nAnálisis de duplicados en conjunto de entrenamiento:\")\n",
    "print(f\"Número de filas duplicadas: {df_train.duplicated().sum()}\")\n",
    "\n",
    "if df_train.duplicated().sum() > 0:\n",
    "    print(\"\\nPrimeras filas duplicadas encontradas:\")\n",
    "    print(df_train[df_train.duplicated(keep='first')])\n"
   ]
  },
  {
   "cell_type": "code",
   "execution_count": 5,
   "metadata": {},
   "outputs": [
    {
     "name": "stdout",
     "output_type": "stream",
     "text": [
      "Análisis de dispositivos:\n",
      "Número total de dispositivos únicos: 1169\n",
      "\n",
      "Primeros 5 dispositivos únicos:\n",
      "['S1F01085' 'W1F0Y13C' 'W1F0XKWR' 'W1F0X7QX' 'W1F0X7PR']\n",
      "\n",
      "Análisis de fechas:\n",
      "Rango de fechas: 2015-01-01 a 2015-11-02\n",
      "Número total de días: 304\n",
      "\n",
      "Estadísticas de mediciones por dispositivo:\n",
      "count    1169.000000\n",
      "mean      106.496151\n",
      "std       102.651601\n",
      "min         1.000000\n",
      "25%         6.000000\n",
      "50%        84.000000\n",
      "75%       224.000000\n",
      "max       304.000000\n",
      "dtype: float64\n"
     ]
    }
   ],
   "source": [
    "# Analizamos la variable device\n",
    "print(\"Análisis de dispositivos:\")\n",
    "print(f\"Número total de dispositivos únicos: {df['device'].nunique()}\")\n",
    "print(\"\\nPrimeros 5 dispositivos únicos:\")\n",
    "print(df['device'].unique()[:5])\n",
    "\n",
    "# Analizamos la variable date\n",
    "print(\"\\nAnálisis de fechas:\")\n",
    "print(f\"Rango de fechas: {df['date'].min()} a {df['date'].max()}\")\n",
    "print(f\"Número total de días: {df['date'].nunique()}\")\n",
    "\n",
    "# Veamos la distribución de mediciones por dispositivo\n",
    "print(\"\\nEstadísticas de mediciones por dispositivo:\")\n",
    "mediciones_por_dispositivo = df.groupby('device').size()\n",
    "print(mediciones_por_dispositivo.describe())\n"
   ]
  },
  {
   "cell_type": "markdown",
   "metadata": {},
   "source": [
    "Podríamos generar nuevas variables utilizando los devices, por su nomenclatura pareciera que hay modelos diferentes. Tambien podriamos plantear nuevas variables basados en la fecha. No considero que esto sea el objetivo a evaluar en este ejercicio dado que ya se realizo en el primer ejercicio por lo que me concentrare en la creacion del modelo. "
   ]
  },
  {
   "cell_type": "code",
   "execution_count": 6,
   "metadata": {},
   "outputs": [
    {
     "name": "stdout",
     "output_type": "stream",
     "text": [
      "Estadísticas descriptivas de los atributos:\n",
      "         attribute1    attribute2    attribute3    attribute4    attribute5  \\\n",
      "count  8.714500e+04  87145.000000  87145.000000  87145.000000  87145.000000   \n",
      "mean   1.226788e+08    169.271169      9.378174      1.851558     14.330277   \n",
      "std    7.034232e+07   2228.984342    201.589174     24.790921     15.910442   \n",
      "min    0.000000e+00      0.000000      0.000000      0.000000      1.000000   \n",
      "25%    6.198116e+07      0.000000      0.000000      0.000000      8.000000   \n",
      "50%    1.232363e+08      0.000000      0.000000      0.000000     10.000000   \n",
      "75%    1.834729e+08      0.000000      0.000000      0.000000     12.000000   \n",
      "max    2.441405e+08  64784.000000  24929.000000   1666.000000     98.000000   \n",
      "\n",
      "          attribute6    attribute7    attribute8   attribute9  \n",
      "count   87145.000000  87145.000000  87145.000000  87145.00000  \n",
      "mean   253150.945585      0.216536      0.216536     14.17285  \n",
      "std     96098.710365      6.278606      6.278606    215.39307  \n",
      "min         8.000000      0.000000      0.000000      0.00000  \n",
      "25%    218987.000000      0.000000      0.000000      0.00000  \n",
      "50%    245819.000000      0.000000      0.000000      0.00000  \n",
      "75%    306814.000000      0.000000      0.000000      0.00000  \n",
      "max    689161.000000    832.000000    832.000000  18701.00000  \n"
     ]
    }
   ],
   "source": [
    "# Análisis de las variables atributo en X_train\n",
    "import matplotlib.pyplot as plt\n",
    "import seaborn as sns\n",
    "\n",
    "print(\"Estadísticas descriptivas de los atributos:\")\n",
    "print(X_train.describe())\n"
   ]
  },
  {
   "cell_type": "code",
   "execution_count": 7,
   "metadata": {},
   "outputs": [
    {
     "data": {
      "image/png": "[encoded data removed]",
      "text/plain": [
       "<Figure size 800x600 with 2 Axes>"
      ]
     },
     "metadata": {},
     "output_type": "display_data"
    }
   ],
   "source": [
    "# Calculamos la matriz de correlación\n",
    "correlation_matrix = X_train.corr()\n",
    "\n",
    "# Creamos una figura con un tamaño específico\n",
    "plt.figure(figsize=(8, 6))\n",
    "\n",
    "# Generamos el mapa de calor usando seaborn\n",
    "sns.heatmap(correlation_matrix, \n",
    "            annot=True,  # Muestra los valores numéricos\n",
    "            cmap='coolwarm',  # Esquema de colores\n",
    "            center=0,  # Centro del mapa de calor\n",
    "            fmt='.2f',  # Formato de los números (2 decimales)\n",
    "            square=True)  # Hace que las celdas sean cuadradas\n",
    "\n",
    "plt.title('Matriz de Correlación entre Atributos')\n",
    "plt.tight_layout()\n",
    "plt.show()\n"
   ]
  },
  {
   "cell_type": "markdown",
   "metadata": {},
   "source": [
    "Podemos ver que la variable 7 y 8 tienen una correlacion perfecta por lo que no es necesario contar con ambas para el analisis. Veamos si son iguales o no. Si son exactamente iguales en todos los casos, vamos a dropearlas en todos los datasets"
   ]
  },
  {
   "cell_type": "code",
   "execution_count": 8,
   "metadata": {},
   "outputs": [
    {
     "name": "stdout",
     "output_type": "stream",
     "text": [
      "¿Son iguales attribute7 y attribute8?\n",
      "True\n"
     ]
    }
   ],
   "source": [
    "# Comparamos si attribute7 y attribute8 son iguales\n",
    "print(\"¿Son iguales attribute7 y attribute8?\")\n",
    "print((X_train['attribute7'] == X_train['attribute8']).all())\n",
    "\n",
    "# Eliminamos attribute8 de los conjuntos de datos ya que es idéntico a attribute7\n",
    "X_train = X_train.drop('attribute8', axis=1)\n",
    "X_test = X_test.drop('attribute8', axis=1) \n",
    "X_val = X_val.drop('attribute8', axis=1)\n",
    "\n"
   ]
  },
  {
   "cell_type": "code",
   "execution_count": 9,
   "metadata": {},
   "outputs": [
    {
     "name": "stdout",
     "output_type": "stream",
     "text": [
      "Valores nulos en X_train:\n",
      "attribute1    0\n",
      "attribute2    0\n",
      "attribute3    0\n",
      "attribute4    0\n",
      "attribute5    0\n",
      "attribute6    0\n",
      "attribute7    0\n",
      "attribute9    0\n",
      "dtype: int64\n",
      "\n",
      "Valores nulos en X_val:\n",
      "attribute1    0\n",
      "attribute2    0\n",
      "attribute3    0\n",
      "attribute4    0\n",
      "attribute5    0\n",
      "attribute6    0\n",
      "attribute7    0\n",
      "attribute9    0\n",
      "dtype: int64\n"
     ]
    }
   ],
   "source": [
    "# Verificamos valores nulos en X_train\n",
    "print(\"Valores nulos en X_train:\")\n",
    "print(X_train.isnull().sum())\n",
    "\n",
    "print(\"\\nValores nulos en X_val:\")\n",
    "print(X_val.isnull().sum())"
   ]
  },
  {
   "cell_type": "markdown",
   "metadata": {},
   "source": [
    "### Variable objetivo"
   ]
  },
  {
   "cell_type": "code",
   "execution_count": 10,
   "metadata": {},
   "outputs": [
    {
     "data": {
      "text/plain": [
       "failure\n",
       "0    0.999116\n",
       "1    0.000884\n",
       "Name: proportion, dtype: float64"
      ]
     },
     "execution_count": 10,
     "metadata": {},
     "output_type": "execute_result"
    }
   ],
   "source": [
    "y_train.value_counts(normalize=True)"
   ]
  },
  {
   "cell_type": "markdown",
   "metadata": {},
   "source": [
    "Podemos apreciar que la variable objetivo esta muy desbalanceada."
   ]
  },
  {
   "cell_type": "markdown",
   "metadata": {},
   "source": [
    "### Entrenamiento del modelo"
   ]
  },
  {
   "cell_type": "markdown",
   "metadata": {},
   "source": [
    "Para datos tabulares con una cantidad de datos entre baja y media (nuestro caso con 100k filas) los modelos que mejor performan son los basados en arboles. Dicho esto utilizare LightGBM como modelo base, por su architectura de arboles, sus mejoras varias y velocidad. \n"
   ]
  },
  {
   "cell_type": "markdown",
   "metadata": {},
   "source": [
    "Falso Negativo (no detectar una falla y que falle) = costo 1.0\n",
    "\n",
    "Falso Positivo (mantenimiento innecesario) = costo 0.5\n",
    "\n",
    "True Positive (mantenimiento necesario) = costo 0.5\n",
    "\n",
    "True negative (detectar que no necesita mantenimiento correctamente) = costo 0 "
   ]
  },
  {
   "cell_type": "code",
   "execution_count": 11,
   "metadata": {},
   "outputs": [],
   "source": [
    "import lightgbm as lgb\n",
    "from sklearn.metrics import confusion_matrix\n",
    "import numpy as np\n",
    "from itertools import product\n"
   ]
  },
  {
   "cell_type": "code",
   "execution_count": 220,
   "metadata": {},
   "outputs": [],
   "source": [
    "def custom_cost_metric(y_pred, dtrain, threshold=0.5):\n",
    "    \"\"\"\n",
    "    y_pred: probabilidades predichas por el modelo\n",
    "    dtrain: Dataset de LightGBM que contiene los valores reales\n",
    "    threshold: umbral para convertir probabilidades a predicciones binarias (default 0.5)\n",
    "    \"\"\"\n",
    "    # Obtenemos los valores reales del dataset\n",
    "    y_true = dtrain.get_label()\n",
    "    \n",
    "    # Convertimos probabilidades a predicciones binarias usando el threshold\n",
    "    y_pred_binary = (y_pred >= threshold).astype(int)\n",
    "    \n",
    "    # Calculamos la matriz de confusión\n",
    "    tn, fp, fn, tp = confusion_matrix(y_true, y_pred_binary).ravel()\n",
    "    \n",
    "    # Calculamos el costo total\n",
    "    cost_fn = fn * 1.0  # Costo de no detectar una falla\n",
    "    cost_fp = fp * 0.5  # Costo de mantenimiento innecesario\n",
    "    cost_tp = tp * 0.5\n",
    "    total_cost = cost_fn + cost_fp + cost_tp\n",
    "    \n",
    "    # LightGBM espera (eval_name, eval_result, is_higher_better)\n",
    "    return 'custom_cost', total_cost, False\n",
    "\n",
    "\n",
    "def calcular_metricas_y_costos(y_true, y_pred):\n",
    "    # Calculamos la matriz de confusión\n",
    "    tn, fp, fn, tp = confusion_matrix(y_true, y_pred).ravel()\n",
    "    \n",
    "    print(\"Matriz de confusión en el conjunto de prueba:\")\n",
    "    print(f\"Verdaderos Negativos (TN): {tn}\")\n",
    "    print(f\"Falsos Positivos (FP): {fp}\") \n",
    "    print(f\"Falsos Negativos (FN): {fn}\")\n",
    "    print(f\"Verdaderos Positivos (TP): {tp}\")\n",
    "\n",
    "    # Calculamos el costo total\n",
    "    cost_fn = fn * 1.0  # Costo de no detectar una falla\n",
    "    cost_fp = fp * 0.5  # Costo de mantenimiento innecesario\n",
    "    cost_tp = tp * 0.5\n",
    "    total_cost = cost_fn + cost_fp + cost_tp\n",
    "\n",
    "    print(f\"\\nCostos en el conjunto de prueba:\")\n",
    "    print(f\"Costo por Falsos Negativos: {cost_fn}\")\n",
    "    print(f\"Costo por Falsos Positivos: {cost_fp}\")\n",
    "    print(f\"Costo por True Positives: {cost_tp}\")\n",
    "    print(f\"Costo Total: {total_cost}\")\n",
    "    \n",
    "    return tn, fp, fn, tp, cost_fn, cost_fp, total_cost\n"
   ]
  },
  {
   "cell_type": "code",
   "execution_count": 217,
   "metadata": {},
   "outputs": [],
   "source": [
    "# Creamos los datasets de LightGBM\n",
    "train_data = lgb.Dataset(X_train, label=y_train)\n",
    "val_data = lgb.Dataset(X_val, label=y_val, reference=train_data)"
   ]
  },
  {
   "cell_type": "code",
   "execution_count": 241,
   "metadata": {},
   "outputs": [
    {
     "name": "stdout",
     "output_type": "stream",
     "text": [
      "Training until validation scores don't improve for 50 rounds\n",
      "[10]\ttraining's average_precision: 0.274556\ttraining's auc: 0.930954\ttraining's custom_cost: 103\tvalidation's average_precision: 0.0587722\tvalidation's auc: 0.454027\tvalidation's custom_cost: 37.5\n",
      "[20]\ttraining's average_precision: 0.394889\ttraining's auc: 0.98531\ttraining's custom_cost: 75.5\tvalidation's average_precision: 0.0589589\tvalidation's auc: 0.568949\tvalidation's custom_cost: 34\n",
      "[30]\ttraining's average_precision: 0.574111\ttraining's auc: 0.996801\ttraining's custom_cost: 69.5\tvalidation's average_precision: 0.059095\tvalidation's auc: 0.611763\tvalidation's custom_cost: 33.5\n",
      "[40]\ttraining's average_precision: 0.751464\ttraining's auc: 0.999499\ttraining's custom_cost: 63\tvalidation's average_precision: 0.0599569\tvalidation's auc: 0.646067\tvalidation's custom_cost: 34.5\n",
      "[50]\ttraining's average_precision: 0.864026\ttraining's auc: 0.999856\ttraining's custom_cost: 59.5\tvalidation's average_precision: 0.0595342\tvalidation's auc: 0.635941\tvalidation's custom_cost: 34\n",
      "[60]\ttraining's average_precision: 0.926347\ttraining's auc: 0.999927\ttraining's custom_cost: 56.5\tvalidation's average_precision: 0.0584773\tvalidation's auc: 0.586532\tvalidation's custom_cost: 30.5\n",
      "[70]\ttraining's average_precision: 0.973452\ttraining's auc: 0.999974\ttraining's custom_cost: 52.5\tvalidation's average_precision: 0.0580768\tvalidation's auc: 0.581946\tvalidation's custom_cost: 29\n",
      "[80]\ttraining's average_precision: 0.986829\ttraining's auc: 0.999987\ttraining's custom_cost: 48.5\tvalidation's average_precision: 0.0577945\tvalidation's auc: 0.569504\tvalidation's custom_cost: 29.5\n",
      "Early stopping, best iteration is:\n",
      "[35]\ttraining's average_precision: 0.653448\ttraining's auc: 0.999273\ttraining's custom_cost: 66\tvalidation's average_precision: 0.0602394\tvalidation's auc: 0.655745\tvalidation's custom_cost: 33.5\n"
     ]
    }
   ],
   "source": [
    "# Parámetros del modelo actualizados\n",
    "params = {\n",
    "    'objective': 'binary',\n",
    "    'metric': ['average_precision', \"auc\", \"custom_cost\"], #en este caso aunque estemos especificando nuestra metrica, estamos optimizando por average_precision\n",
    "    'boosting_type': 'gbdt',\n",
    "    'num_leaves': 31,\n",
    "    'learning_rate': 0.05,\n",
    "    'feature_fraction': 0.9,\n",
    "    'bagging_fraction': 0.8,\n",
    "    'bagging_freq': 5,\n",
    "    'verbose': -1,\n",
    "    \"is_unbalanced\": True\n",
    "}\n",
    "\n",
    "\n",
    "# Entrenamos el modelo usando solo nuestra métrica personalizada\n",
    "initial_model = lgb.train(\n",
    "    params,\n",
    "    train_data,  # Dataset de entrenamiento\n",
    "    num_boost_round=1000,\n",
    "    valid_sets=[train_data, val_data],  # Lista de datasets de validación\n",
    "    valid_names=['training', 'validation'],  # Nombres de los datasets\n",
    "    feval=custom_cost_metric,  # Nuestra métrica personalizada\n",
    "    callbacks=[\n",
    "        lgb.early_stopping(stopping_rounds=50), #El early stopping ayuda a evitar overfitting\n",
    "        lgb.log_evaluation(period=10)\n",
    "    ]\n",
    ")"
   ]
  },
  {
   "cell_type": "code",
   "execution_count": 242,
   "metadata": {},
   "outputs": [
    {
     "name": "stdout",
     "output_type": "stream",
     "text": [
      "Matriz de confusión en el conjunto de prueba:\n",
      "Verdaderos Negativos (TN): 18545\n",
      "Falsos Positivos (FP): 119\n",
      "Falsos Negativos (FN): 9\n",
      "Verdaderos Positivos (TP): 2\n",
      "\n",
      "Costos en el conjunto de prueba:\n",
      "Costo por Falsos Negativos: 9.0\n",
      "Costo por Falsos Positivos: 59.5\n",
      "Costo por True Positives: 1.0\n",
      "Costo Total: 69.5\n"
     ]
    }
   ],
   "source": [
    "# Hacemos predicciones en el conjunto de prueba\n",
    "y_pred_test = initial_model.predict(X_test)\n",
    "y_pred_test_binary = (y_pred_test >= 0.5).astype(int)\n",
    "\n",
    "# Calculamos las métricas y costos usando la función\n",
    "tn, fp, fn, tp, cost_fn, cost_fp, total_cost = calcular_metricas_y_costos(y_test, y_pred_test_binary)\n"
   ]
  },
  {
   "cell_type": "markdown",
   "metadata": {},
   "source": [
    "El costo total en el dataset de test, con este modelo, es de 65. Veamos si podemos mejorarlo optimizando hiperparametros"
   ]
  },
  {
   "cell_type": "code",
   "execution_count": null,
   "metadata": {},
   "outputs": [],
   "source": [
    "\n",
    "# Definimos el espacio de búsqueda de hiperparámetros\n",
    "param_grid = {\n",
    "    'learning_rate': [0.01, 0.05, 0.1],\n",
    "    'num_leaves': [31, 50,100],\n",
    "    'feature_fraction': [0.7, 0.8, 0.9],\n",
    "    'max_depth': [5, 10,-1],\n",
    "     'subsample': [0.8, 0.9, 1.0]\n",
    "}\n",
    "\n",
    "# Generamos todas las combinaciones de parámetros\n",
    "param_combinations = [dict(zip(param_grid.keys(), v)) for v in product(*param_grid.values())]\n",
    "\n",
    "# Lista para almacenar resultados\n",
    "results = []\n",
    "\n",
    "\n",
    "# Parámetros base que no cambiarán\n",
    "base_params = {\n",
    "    'objective': 'binary',\n",
    "    'metric': ['average_precision', \"auc\",\"custom_cost\"],\n",
    "    'verbose': -1,\n",
    "    'boosting_type': 'gbdt',\n",
    "    \"is_unbalanced\":True,\n",
    "}\n",
    "\n",
    "# Probamos cada combinación de parámetros\n",
    "for params in param_combinations:\n",
    "    # Combinamos los parámetros base con los específicos de esta iteración\n",
    "    current_params = {**base_params, **params}\n",
    "    \n",
    "    # Entrenamos el modelo\n",
    "    model = lgb.train(\n",
    "        params=current_params,\n",
    "        train_set=train_data,\n",
    "        num_boost_round=1000,\n",
    "        valid_sets=[val_data],  # Solo el conjunto de validación\n",
    "        valid_names=['valid'],  # Solo un nombre\n",
    "        feval=custom_cost_metric,\n",
    "        callbacks=[\n",
    "            lgb.early_stopping(stopping_rounds=40, first_metric_only=True),\n",
    "            lgb.log_evaluation(period=10)  # Mostramos logs cada 100 iteraciones\n",
    "        ]\n",
    "    )\n",
    "    \n",
    "    # Guardamos los resultados\n",
    "    results.append({\n",
    "        'params': params,\n",
    "        'best_iteration': model.best_iteration,\n",
    "        'best_score': model.best_score['valid']['custom_cost'],\n",
    "        'model': model\n",
    "    })\n"
   ]
  },
  {
   "cell_type": "code",
   "execution_count": 231,
   "metadata": {},
   "outputs": [
    {
     "name": "stdout",
     "output_type": "stream",
     "text": [
      "Mejores parámetros encontrados:\n",
      "{'learning_rate': 0.01, 'num_leaves': 31, 'feature_fraction': 0.7, 'max_depth': 5, 'subsample': 0.8}\n",
      "Mejor score: 18.0\n",
      "Mejor iteración: 2\n"
     ]
    }
   ],
   "source": [
    "\n",
    "# Encontramos la mejor combinación\n",
    "best_result = min(results, key=lambda x: x['best_score'])\n",
    "\n",
    "print(\"Mejores parámetros encontrados:\")\n",
    "print(best_result['params'])\n",
    "print(f\"Mejor score: {best_result['best_score']}\")\n",
    "print(f\"Mejor iteración: {best_result['best_iteration']}\")\n",
    "\n",
    "# Guardamos el mejor modelo\n",
    "best_model = best_result['model']"
   ]
  },
  {
   "cell_type": "code",
   "execution_count": 232,
   "metadata": {},
   "outputs": [
    {
     "name": "stdout",
     "output_type": "stream",
     "text": [
      "Matriz de confusión en el conjunto de prueba:\n",
      "Verdaderos Negativos (TN): 18664\n",
      "Falsos Positivos (FP): 0\n",
      "Falsos Negativos (FN): 11\n",
      "Verdaderos Positivos (TP): 0\n",
      "\n",
      "Costos en el conjunto de prueba:\n",
      "Costo por Falsos Negativos: 11.0\n",
      "Costo por Falsos Positivos: 0.0\n",
      "Costo por True Positives: 0.0\n",
      "Costo Total: 11.0\n"
     ]
    }
   ],
   "source": [
    "# Hacemos predicciones en el conjunto de prueba\n",
    "y_pred_test = best_model.predict(X_test)\n",
    "y_pred_test_binary = (y_pred_test >= 0.5).astype(int)\n",
    "\n",
    "# Calculamos las métricas y costos\n",
    "tn, fp, fn, tp, cost_fn, cost_fp, total_cost = calcular_metricas_y_costos(y_test, y_pred_test_binary)\n"
   ]
  },
  {
   "cell_type": "markdown",
   "metadata": {},
   "source": [
    "Podemos ver que el costo disminuyó considerablemente al optimizar los hiperparametros, pero el modelo pareceria no estar prediciendo nunca que la maquina fallará, lo cual debería levantarnos una alarma de problemas en el entrenamiento, esto podría ser causado por un overfitting contra el train set. "
   ]
  },
  {
   "cell_type": "markdown",
   "metadata": {},
   "source": [
    "Veamos como se comportan la logloss de train y de validacion para este modelo en particular.\n"
   ]
  },
  {
   "cell_type": "code",
   "execution_count": 234,
   "metadata": {},
   "outputs": [
    {
     "name": "stdout",
     "output_type": "stream",
     "text": [
      "Training until validation scores don't improve for 200 rounds\n",
      "[10]\ttraining's average_precision: 0.312118\ttraining's custom_cost: 77\tvalidation's average_precision: 0.0206448\tvalidation's custom_cost: 18\n",
      "[20]\ttraining's average_precision: 0.394038\ttraining's custom_cost: 77\tvalidation's average_precision: 0.0202176\tvalidation's custom_cost: 18\n",
      "[30]\ttraining's average_precision: 0.443553\ttraining's custom_cost: 77\tvalidation's average_precision: 0.0204064\tvalidation's custom_cost: 18\n",
      "[40]\ttraining's average_precision: 0.478011\ttraining's custom_cost: 77\tvalidation's average_precision: 0.0206525\tvalidation's custom_cost: 18\n",
      "[50]\ttraining's average_precision: 0.511083\ttraining's custom_cost: 77\tvalidation's average_precision: 0.0163952\tvalidation's custom_cost: 18\n",
      "[60]\ttraining's average_precision: 0.528172\ttraining's custom_cost: 77\tvalidation's average_precision: 0.016262\tvalidation's custom_cost: 18\n",
      "[70]\ttraining's average_precision: 0.550709\ttraining's custom_cost: 77\tvalidation's average_precision: 0.0161875\tvalidation's custom_cost: 18\n",
      "[80]\ttraining's average_precision: 0.566607\ttraining's custom_cost: 76\tvalidation's average_precision: 0.0143284\tvalidation's custom_cost: 18.5\n",
      "[90]\ttraining's average_precision: 0.580543\ttraining's custom_cost: 76\tvalidation's average_precision: 0.0134574\tvalidation's custom_cost: 18.5\n",
      "[100]\ttraining's average_precision: 0.589566\ttraining's custom_cost: 76\tvalidation's average_precision: 0.0123324\tvalidation's custom_cost: 20\n",
      "[110]\ttraining's average_precision: 0.602661\ttraining's custom_cost: 76\tvalidation's average_precision: 0.0121803\tvalidation's custom_cost: 20\n",
      "[120]\ttraining's average_precision: 0.612728\ttraining's custom_cost: 75\tvalidation's average_precision: 0.0121974\tvalidation's custom_cost: 20.5\n",
      "[130]\ttraining's average_precision: 0.624516\ttraining's custom_cost: 74.5\tvalidation's average_precision: 0.0114601\tvalidation's custom_cost: 20.5\n",
      "[140]\ttraining's average_precision: 0.634594\ttraining's custom_cost: 73.5\tvalidation's average_precision: 0.0114384\tvalidation's custom_cost: 21.5\n",
      "[150]\ttraining's average_precision: 0.643049\ttraining's custom_cost: 73.5\tvalidation's average_precision: 0.0113247\tvalidation's custom_cost: 22\n",
      "[160]\ttraining's average_precision: 0.651157\ttraining's custom_cost: 73.5\tvalidation's average_precision: 0.0113616\tvalidation's custom_cost: 22\n",
      "[170]\ttraining's average_precision: 0.659084\ttraining's custom_cost: 73\tvalidation's average_precision: 0.0113446\tvalidation's custom_cost: 22\n",
      "[180]\ttraining's average_precision: 0.665013\ttraining's custom_cost: 72.5\tvalidation's average_precision: 0.0113295\tvalidation's custom_cost: 22\n",
      "[190]\ttraining's average_precision: 0.672212\ttraining's custom_cost: 72.5\tvalidation's average_precision: 0.0114273\tvalidation's custom_cost: 22\n",
      "[200]\ttraining's average_precision: 0.6793\ttraining's custom_cost: 72.5\tvalidation's average_precision: 0.011257\tvalidation's custom_cost: 22\n",
      "Early stopping, best iteration is:\n",
      "[1]\ttraining's average_precision: 0.128834\ttraining's custom_cost: 77\tvalidation's average_precision: 0.0124856\tvalidation's custom_cost: 18\n"
     ]
    }
   ],
   "source": [
    "\n",
    "# Parámetros del modelo actualizados\n",
    "best_params = {'learning_rate': 0.01, 'num_leaves': 31, 'feature_fraction': 0.9,  \n",
    "          \n",
    "          \"is_unbalanced\":True,\n",
    "          'max_depth': 5, 'subsample': 0.8, 'objective': 'binary',\n",
    "    'metric': \"average_precision\",\n",
    "    'verbose': -1,\n",
    "    'boosting_type': 'gbdt'}\n",
    "\n",
    "\n",
    "# Entrenamos el modelo usando solo nuestra métrica personalizada\n",
    "model = lgb.train(\n",
    "    best_params,\n",
    "    train_data,  # Dataset de entrenamiento\n",
    "    num_boost_round=1000,\n",
    "    valid_sets=[train_data, val_data],  # Lista de datasets de validación\n",
    "    valid_names=['training', 'validation'],  # Nombres de los datasets\n",
    "    feval=custom_cost_metric,  # Nuestra métrica personalizada\n",
    "    callbacks=[\n",
    "        lgb.early_stopping(stopping_rounds=200),\n",
    "        lgb.log_evaluation(period=10)\n",
    "    ]\n",
    ")\n"
   ]
  },
  {
   "cell_type": "markdown",
   "metadata": {},
   "source": [
    "Quitando el early stopping de 50, podemos ver que la average_precision de entrenamiento baja mientras que la de validacion sube, junto con el costo. Queda claro que estamos overfitteando por lo que el early stopping es una buena practica en este caso.\n",
    "\n",
    "Utilizamos average precision porque corresponde al area bajo la curva de Precision-Recall PR-AUC la cual es recomendada para casos desbalanceados"
   ]
  },
  {
   "cell_type": "markdown",
   "metadata": {},
   "source": [
    "Agregando granularidad al loggeo queda claro que el modelo converge en validacion en el epoch 45, luego de esto overfitteando."
   ]
  },
  {
   "cell_type": "code",
   "execution_count": 235,
   "metadata": {},
   "outputs": [
    {
     "data": {
      "text/plain": [
       "0    18675\n",
       "Name: count, dtype: int64"
      ]
     },
     "execution_count": 235,
     "metadata": {},
     "output_type": "execute_result"
    }
   ],
   "source": [
    "pd.Series(y_pred_test_binary).value_counts()\n"
   ]
  },
  {
   "cell_type": "markdown",
   "metadata": {},
   "source": [
    "Como podemos ver el modelo sigue sin predecir que la maquina fallará, si lo pensamos mejor, nuestro threshold esta puesto en 0.5\n",
    "\n",
    "Tenemos que hacer un trabajo de calibración del modelo, la calibración de modelos es especialmente importante cuando trabajamos con predicciones de probabilidad. \n",
    "\n",
    "La calibración se refiere a qué tan bien las probabilidades predichas por el modelo corresponden a las frecuencias observadas reales. Por ejemplo, cuando tu modelo predice una probabilidad de 0.8, idealmente el 80% de esos casos deberían ser positivos en la realidad."
   ]
  },
  {
   "cell_type": "code",
   "execution_count": 236,
   "metadata": {},
   "outputs": [
    {
     "name": "stdout",
     "output_type": "stream",
     "text": [
      "El ratio de fallas es: 0.0008836\n"
     ]
    }
   ],
   "source": [
    "# En nuestro caso el ratio de falla es:\n",
    "ratio_falla = len(y_train[y_train==1]) / len(y_train)\n",
    "print(f\"El ratio de fallas es: {ratio_falla:.4}\")\n"
   ]
  },
  {
   "cell_type": "code",
   "execution_count": 239,
   "metadata": {},
   "outputs": [
    {
     "name": "stdout",
     "output_type": "stream",
     "text": [
      "El promedio de probabilidades de falla predichas es: 0.0010\n"
     ]
    }
   ],
   "source": [
    "# Calculamos las probabilidades predichas para el conjunto de prueba\n",
    "y_pred_test_proba = model.predict(X_test)\n",
    "\n",
    "# Calculamos el promedio de las probabilidades predichas\n",
    "promedio_fallas = np.mean(y_pred_test_proba)\n",
    "print(f\"El promedio de probabilidades de falla predichas es: {promedio_fallas:.4f}\")\n"
   ]
  },
  {
   "cell_type": "markdown",
   "metadata": {},
   "source": [
    "Lo cual no está muy alejado de lo que nos interesaría!"
   ]
  },
  {
   "cell_type": "markdown",
   "metadata": {},
   "source": [
    "### Ejemplo curva de calibracion de nuestro modelo inicial"
   ]
  },
  {
   "cell_type": "code",
   "execution_count": 237,
   "metadata": {},
   "outputs": [],
   "source": [
    "from sklearn.calibration import CalibrationDisplay\n",
    "\n",
    "def graficar_curva_calibracion(modelo, X_test, y_test, n_bins=10, nombre_modelo=\"LightGBM\", \n",
    "                              tamano_figura=(10,6)):\n",
    "    # Obtenemos las predicciones\n",
    "    y_pred_proba = modelo.predict(X_test)\n",
    "    \n",
    "    # Configuramos el tamaño de la figura\n",
    "    plt.figure(figsize=tamano_figura)\n",
    "    \n",
    "    # Creamos y mostramos la curva de calibración\n",
    "    CalibrationDisplay.from_predictions(\n",
    "        y_test,\n",
    "        y_pred_proba,\n",
    "        n_bins=n_bins,\n",
    "        name=nombre_modelo\n",
    "    )\n",
    "    \n",
    "    plt.title(\"Curva de Calibración del Modelo\")\n",
    "    plt.xlabel(\"Probabilidad Media Predicha\")\n",
    "    plt.ylabel(\"Fracción de Positivos\")\n",
    "    plt.grid(True)\n",
    "    plt.show()"
   ]
  },
  {
   "cell_type": "code",
   "execution_count": 243,
   "metadata": {},
   "outputs": [
    {
     "data": {
      "text/plain": [
       "<Figure size 1000x600 with 0 Axes>"
      ]
     },
     "metadata": {},
     "output_type": "display_data"
    },
    {
     "data": {
      "image/png": "[encoded data removed]",
      "text/plain": [
       "<Figure size 640x480 with 1 Axes>"
      ]
     },
     "metadata": {},
     "output_type": "display_data"
    }
   ],
   "source": [
    "# Llamamos a la función con los parámetros actuales\n",
    "graficar_curva_calibracion(initial_model, X_test, y_test)\n"
   ]
  },
  {
   "cell_type": "markdown",
   "metadata": {},
   "source": [
    "Esta curva de calibración muestra un problema serio de calibración en el modelo.\n",
    "\n",
    "Está muy por debajo de la línea perfecta y muestra una fracción de positivos muy baja para las probabilidades predichas, significa que el modelo no está bien calibrado. Es posible que esté asignando probabilidades muy bajas a muchos ejemplos que en realidad son positivos, lo que puede ser un indicativo de problema en el aprendizaje, como el desbalanceo de clases."
   ]
  },
  {
   "cell_type": "markdown",
   "metadata": {},
   "source": [
    "Probemos con un metodo de calibración sencillo como es utilizar sklearn"
   ]
  },
  {
   "cell_type": "markdown",
   "metadata": {},
   "source": [
    "CalibratedClassifierCV es un calibrador de probabilidades que ajusta las predicciones de un clasificador\n",
    "para que sean más precisas como probabilidades reales. Utiliza validación cruzada y puede usar diferentes\n",
    "métodos de calibración como 'sigmoid' (Platt) o 'isotonic'. Es especialmente útil cuando:\n",
    "\n",
    "- El clasificador base no produce buenas probabilidades (como SVM o Random Forests)\n",
    "- Hay desbalanceo de clases  \n",
    "- Se necesitan probabilidades bien calibradas para toma de decisiones\n",
    "\n",
    "Scikit-learn implementa dos métodos de calibración:\n",
    "\n",
    "1. Calibración de Platt (método 'sigmoid'): Ajusta una regresión logística a las predicciones del modelo \n",
    "   base para transformarlas en probabilidades calibradas.\n",
    "\n",
    "2. Calibración isotónica (método 'isotonic'): Aprende una función monótona no paramétrica para mapear las \n",
    "   predicciones a probabilidades calibradas. Es más flexible que la calibración de Platt pero requiere \n",
    "   más datos para evitar el sobreajuste."
   ]
  },
  {
   "cell_type": "code",
   "execution_count": 260,
   "metadata": {},
   "outputs": [
    {
     "name": "stderr",
     "output_type": "stream",
     "text": [
      "/opt/anaconda3/envs/meli_challenge/lib/python3.12/site-packages/sklearn/calibration.py:333: UserWarning: The `cv='prefit'` option is deprecated in 1.6 and will be removed in 1.8. You can use CalibratedClassifierCV(FrozenEstimator(estimator)) instead.\n",
      "  warnings.warn(\n"
     ]
    }
   ],
   "source": [
    "from sklearn.calibration import CalibratedClassifierCV\n",
    "\n",
    "# Ajusta el modelo original\n",
    "model = lgb.LGBMClassifier(**best_params)\n",
    "model.fit(X_train, y_train)\n",
    "\n",
    "# Calibración\n",
    "calibrated_model = CalibratedClassifierCV(model, method='sigmoid', cv='prefit')\n",
    "calibrated_model.fit(X_val, y_val)\n",
    "\n",
    "# Ahora puedes predecir y evaluar la calibración\n",
    "probabilities = calibrated_model.predict_proba(X_val)[:, 1]"
   ]
  },
  {
   "cell_type": "code",
   "execution_count": 261,
   "metadata": {},
   "outputs": [
    {
     "data": {
      "text/plain": [
       "<Figure size 1000x600 with 0 Axes>"
      ]
     },
     "metadata": {},
     "output_type": "display_data"
    },
    {
     "data": {
      "image/png": "[encoded data removed]",
      "text/plain": [
       "<Figure size 640x480 with 1 Axes>"
      ]
     },
     "metadata": {},
     "output_type": "display_data"
    }
   ],
   "source": [
    "# Llamamos a la función con los parámetros actuales\n",
    "graficar_curva_calibracion(calibrated_model, X_test, y_test,n_bins=100)\n"
   ]
  },
  {
   "cell_type": "markdown",
   "metadata": {},
   "source": [
    "Ahora si, la curva de calibración cae sobre la perfecta, aunque solo se vea como un punto. Esto se debe al alto desbalanceo del dataset!"
   ]
  },
  {
   "cell_type": "markdown",
   "metadata": {},
   "source": [
    "### Calcular el umbral para determinar el costo minimo"
   ]
  },
  {
   "cell_type": "markdown",
   "metadata": {},
   "source": [
    "Ahora debemos calcular el umbral óptimo, utilizando nuestra casuistica de negocio, para determinar en qué threshold de probabilidad el modelo debería predecir falla o no falla. Esto no es estrictamente requerido en el challenge pero vamos a hacerlo de cualquier manera. El umbral lo seleccionamos utilizando el dataset de validation y luego lo aplicamos en el de test para ver nuestro costo total!"
   ]
  },
  {
   "cell_type": "code",
   "execution_count": 262,
   "metadata": {},
   "outputs": [
    {
     "name": "stdout",
     "output_type": "stream",
     "text": [
      "Umbral óptimo: 0.14\n",
      "Costo total mínimo: 18.0\n"
     ]
    },
    {
     "data": {
      "image/png": "[encoded data removed]",
      "text/plain": [
       "<Figure size 1000x600 with 1 Axes>"
      ]
     },
     "metadata": {},
     "output_type": "display_data"
    }
   ],
   "source": [
    "import numpy as np\n",
    "from sklearn.metrics import confusion_matrix\n",
    "import matplotlib.pyplot as plt\n",
    "\n",
    "def calcular_umbral_optimo(y_val, probabilities, cost_fn=1, cost_fp=0.5, cost_tp=0.5, max_threshold=0.3, step=0.0005):\n",
    "    \"\"\"\n",
    "    Calcula el umbral óptimo que minimiza el costo total.\n",
    "    \n",
    "    Args:\n",
    "        y_val: Valores reales\n",
    "        probabilities: Probabilidades predichas\n",
    "        cost_fn: Costo de falsos negativos (default 1)\n",
    "        cost_fp: Costo de falsos positivos (default 0.5)\n",
    "        cost_tp: Costo de verdaderos positivos (default 0.5)\n",
    "        max_threshold: Valor máximo del umbral a probar (default 0.3)\n",
    "        step: Paso entre umbrales (default 0.0005)\n",
    "    \n",
    "    Returns:\n",
    "        optimal_threshold: Umbral óptimo\n",
    "        optimal_cost: Costo mínimo encontrado\n",
    "        thresholds: Lista de umbrales probados\n",
    "        costs: Lista de costos para cada umbral\n",
    "    \"\"\"\n",
    "    # Valores únicos de probabilidad que pueden usarse como umbrales\n",
    "    thresholds = np.arange(0.0, max_threshold, step)\n",
    "    \n",
    "    # Inicializamos el costo total\n",
    "    costs = []\n",
    "    \n",
    "    for threshold in thresholds:\n",
    "        # Realizamos las predicciones basadas en el umbral\n",
    "        predictions = (probabilities >= threshold).astype(int)\n",
    "        \n",
    "        # Calculamos la matriz de confusión\n",
    "        tn, fp, fn, tp = confusion_matrix(y_val, predictions).ravel()\n",
    "        \n",
    "        # Calcular el costo total\n",
    "        total_cost = (fn * cost_fn) + (fp * cost_fp) + (tp * cost_tp)\n",
    "        costs.append(total_cost)\n",
    "\n",
    "    # Encontrar el umbral que minimiza el costo\n",
    "    optimal_threshold_index = np.argmin(costs)\n",
    "    optimal_threshold = thresholds[optimal_threshold_index]\n",
    "    optimal_cost = costs[optimal_threshold_index]\n",
    "    \n",
    "    return optimal_threshold, optimal_cost, thresholds, costs\n",
    "\n",
    "# Calculamos el umbral óptimo\n",
    "optimal_threshold, optimal_cost, thresholds, costs = calcular_umbral_optimo(y_val, probabilities)\n",
    "\n",
    "print(f\"Umbral óptimo: {optimal_threshold}\")\n",
    "print(f\"Costo total mínimo: {optimal_cost}\")\n",
    "\n",
    "# Graficar el costo total en función del umbral\n",
    "plt.figure(figsize=(10, 6))\n",
    "plt.semilogy(thresholds, costs, label='Costo Total')\n",
    "plt.axvline(optimal_threshold, color='red', linestyle='--', label='Umbral Óptimo')\n",
    "plt.title('Costo Total vs Umbral (Escala Logarítmica)')\n",
    "plt.xlabel('Umbral')\n",
    "plt.ylabel('Costo Total (log)')\n",
    "plt.legend()\n",
    "plt.grid(True, which=\"both\", ls=\"-\")\n",
    "plt.show()"
   ]
  },
  {
   "cell_type": "code",
   "execution_count": 263,
   "metadata": {},
   "outputs": [
    {
     "name": "stdout",
     "output_type": "stream",
     "text": [
      "Matriz de confusión en el conjunto de prueba:\n",
      "Verdaderos Negativos (TN): 18659\n",
      "Falsos Positivos (FP): 5\n",
      "Falsos Negativos (FN): 10\n",
      "Verdaderos Positivos (TP): 1\n",
      "\n",
      "Costos en el conjunto de prueba:\n",
      "Costo por Falsos Negativos: 10.0\n",
      "Costo por Falsos Positivos: 2.5\n",
      "Costo por True Positives: 0.5\n",
      "Costo Total: 13.0\n"
     ]
    }
   ],
   "source": [
    "# Hacemos predicciones en el conjunto de prueba\n",
    "y_pred_test = model.predict(X_test)\n",
    "y_pred_test_binary = (y_pred_test >= optimal_threshold).astype(int)\n",
    "\n",
    "# Calculamos las métricas y costos\n",
    "tn, fp, fn, tp, cost_fn, cost_fp, total_cost = calcular_metricas_y_costos(y_test, y_pred_test_binary)\n"
   ]
  },
  {
   "cell_type": "code",
   "execution_count": 249,
   "metadata": {},
   "outputs": [
    {
     "data": {
      "text/plain": [
       "0    18669\n",
       "1        6\n",
       "Name: count, dtype: int64"
      ]
     },
     "execution_count": 249,
     "metadata": {},
     "output_type": "execute_result"
    }
   ],
   "source": [
    "pd.Series(y_pred_test_binary).value_counts()"
   ]
  },
  {
   "cell_type": "markdown",
   "metadata": {},
   "source": [
    "Ahora el modelo dejó de solo predecir no falla :) y nuestro costo total sigue en valores controlados para el set de test"
   ]
  },
  {
   "cell_type": "markdown",
   "metadata": {},
   "source": [
    "### SMOTE (Synthetic Minority Over-sampling Technique)\n",
    "\n",
    "SMOTE es una técnica de sobremuestreo que crea instancias sintéticas de la clase minoritaria. En lugar de hacer copias exactas, SMOTE:\n",
    "1. Toma un punto de la clase minoritaria\n",
    "2. Encuentra sus k vecinos más cercanos\n",
    "3. Crea puntos sintéticos entre el punto original y sus vecinos\n",
    "\n",
    "Esto ayuda a balancear el dataset sin causar overfitting por duplicación exacta de datos. Presentemos un ejemplo y analicemos si logramos que mejore la predicción en la detección de fallas sin generar demasiados falsos negativos. Para esto vamos a tener que volver a calibrar el modelo y seleccionar el threshold optimo. "
   ]
  },
  {
   "cell_type": "code",
   "execution_count": 276,
   "metadata": {},
   "outputs": [
    {
     "name": "stdout",
     "output_type": "stream",
     "text": [
      "Distribución original de clases:\n",
      "Counter({0: 87068, 1: 77})\n",
      "\n",
      "Distribución después de SMOTE:\n",
      "Counter({0: 87068, 1: 43534})\n"
     ]
    }
   ],
   "source": [
    "# 1. Parte de Sampling con SMOTE\n",
    "from imblearn.over_sampling import SMOTE\n",
    "from collections import Counter\n",
    "\n",
    "# Veamos la distribución original\n",
    "print(\"Distribución original de clases:\")\n",
    "print(Counter(y_train))\n",
    "\n",
    "# Aplicamos SMOTE solo a los datos de entrenamiento\n",
    "smote = SMOTE(\n",
    "    sampling_strategy=0.5,  # La clase minoritaria será el 50% de la mayoritaria\n",
    "    random_state=42\n",
    ")\n",
    "X_train_resampled, y_train_resampled = smote.fit_resample(X_train, y_train)\n",
    "\n",
    "# Veamos la nueva distribución\n",
    "print(\"\\nDistribución después de SMOTE:\")\n",
    "print(Counter(y_train_resampled))"
   ]
  },
  {
   "cell_type": "code",
   "execution_count": 277,
   "metadata": {},
   "outputs": [
    {
     "name": "stderr",
     "output_type": "stream",
     "text": [
      "/opt/anaconda3/envs/meli_challenge/lib/python3.12/site-packages/sklearn/calibration.py:333: UserWarning: The `cv='prefit'` option is deprecated in 1.6 and will be removed in 1.8. You can use CalibratedClassifierCV(FrozenEstimator(estimator)) instead.\n",
      "  warnings.warn(\n"
     ]
    },
    {
     "data": {
      "text/html": [
       "<style>#sk-container-id-5 {\n",
       "  /* Definition of color scheme common for light and dark mode */\n",
       "  --sklearn-color-text: #000;\n",
       "  --sklearn-color-text-muted: #666;\n",
       "  --sklearn-color-line: gray;\n",
       "  /* Definition of color scheme for unfitted estimators */\n",
       "  --sklearn-color-unfitted-level-0: #fff5e6;\n",
       "  --sklearn-color-unfitted-level-1: #f6e4d2;\n",
       "  --sklearn-color-unfitted-level-2: #ffe0b3;\n",
       "  --sklearn-color-unfitted-level-3: chocolate;\n",
       "  /* Definition of color scheme for fitted estimators */\n",
       "  --sklearn-color-fitted-level-0: #f0f8ff;\n",
       "  --sklearn-color-fitted-level-1: #d4ebff;\n",
       "  --sklearn-color-fitted-level-2: #b3dbfd;\n",
       "  --sklearn-color-fitted-level-3: cornflowerblue;\n",
       "\n",
       "  /* Specific color for light theme */\n",
       "  --sklearn-color-text-on-default-background: var(--sg-text-color, var(--theme-code-foreground, var(--jp-content-font-color1, black)));\n",
       "  --sklearn-color-background: var(--sg-background-color, var(--theme-background, var(--jp-layout-color0, white)));\n",
       "  --sklearn-color-border-box: var(--sg-text-color, var(--theme-code-foreground, var(--jp-content-font-color1, black)));\n",
       "  --sklearn-color-icon: #696969;\n",
       "\n",
       "  @media (prefers-color-scheme: dark) {\n",
       "    /* Redefinition of color scheme for dark theme */\n",
       "    --sklearn-color-text-on-default-background: var(--sg-text-color, var(--theme-code-foreground, var(--jp-content-font-color1, white)));\n",
       "    --sklearn-color-background: var(--sg-background-color, var(--theme-background, var(--jp-layout-color0, #111)));\n",
       "    --sklearn-color-border-box: var(--sg-text-color, var(--theme-code-foreground, var(--jp-content-font-color1, white)));\n",
       "    --sklearn-color-icon: #878787;\n",
       "  }\n",
       "}\n",
       "\n",
       "#sk-container-id-5 {\n",
       "  color: var(--sklearn-color-text);\n",
       "}\n",
       "\n",
       "#sk-container-id-5 pre {\n",
       "  padding: 0;\n",
       "}\n",
       "\n",
       "#sk-container-id-5 input.sk-hidden--visually {\n",
       "  border: 0;\n",
       "  clip: rect(1px 1px 1px 1px);\n",
       "  clip: rect(1px, 1px, 1px, 1px);\n",
       "  height: 1px;\n",
       "  margin: -1px;\n",
       "  overflow: hidden;\n",
       "  padding: 0;\n",
       "  position: absolute;\n",
       "  width: 1px;\n",
       "}\n",
       "\n",
       "#sk-container-id-5 div.sk-dashed-wrapped {\n",
       "  border: 1px dashed var(--sklearn-color-line);\n",
       "  margin: 0 0.4em 0.5em 0.4em;\n",
       "  box-sizing: border-box;\n",
       "  padding-bottom: 0.4em;\n",
       "  background-color: var(--sklearn-color-background);\n",
       "}\n",
       "\n",
       "#sk-container-id-5 div.sk-container {\n",
       "  /* jupyter's `normalize.less` sets `[hidden] { display: none; }`\n",
       "     but bootstrap.min.css set `[hidden] { display: none !important; }`\n",
       "     so we also need the `!important` here to be able to override the\n",
       "     default hidden behavior on the sphinx rendered scikit-learn.org.\n",
       "     See: https://github.com/scikit-learn/scikit-learn/issues/21755 */\n",
       "  display: inline-block !important;\n",
       "  position: relative;\n",
       "}\n",
       "\n",
       "#sk-container-id-5 div.sk-text-repr-fallback {\n",
       "  display: none;\n",
       "}\n",
       "\n",
       "div.sk-parallel-item,\n",
       "div.sk-serial,\n",
       "div.sk-item {\n",
       "  /* draw centered vertical line to link estimators */\n",
       "  background-image: linear-gradient(var(--sklearn-color-text-on-default-background), var(--sklearn-color-text-on-default-background));\n",
       "  background-size: 2px 100%;\n",
       "  background-repeat: no-repeat;\n",
       "  background-position: center center;\n",
       "}\n",
       "\n",
       "/* Parallel-specific style estimator block */\n",
       "\n",
       "#sk-container-id-5 div.sk-parallel-item::after {\n",
       "  content: \"\";\n",
       "  width: 100%;\n",
       "  border-bottom: 2px solid var(--sklearn-color-text-on-default-background);\n",
       "  flex-grow: 1;\n",
       "}\n",
       "\n",
       "#sk-container-id-5 div.sk-parallel {\n",
       "  display: flex;\n",
       "  align-items: stretch;\n",
       "  justify-content: center;\n",
       "  background-color: var(--sklearn-color-background);\n",
       "  position: relative;\n",
       "}\n",
       "\n",
       "#sk-container-id-5 div.sk-parallel-item {\n",
       "  display: flex;\n",
       "  flex-direction: column;\n",
       "}\n",
       "\n",
       "#sk-container-id-5 div.sk-parallel-item:first-child::after {\n",
       "  align-self: flex-end;\n",
       "  width: 50%;\n",
       "}\n",
       "\n",
       "#sk-container-id-5 div.sk-parallel-item:last-child::after {\n",
       "  align-self: flex-start;\n",
       "  width: 50%;\n",
       "}\n",
       "\n",
       "#sk-container-id-5 div.sk-parallel-item:only-child::after {\n",
       "  width: 0;\n",
       "}\n",
       "\n",
       "/* Serial-specific style estimator block */\n",
       "\n",
       "#sk-container-id-5 div.sk-serial {\n",
       "  display: flex;\n",
       "  flex-direction: column;\n",
       "  align-items: center;\n",
       "  background-color: var(--sklearn-color-background);\n",
       "  padding-right: 1em;\n",
       "  padding-left: 1em;\n",
       "}\n",
       "\n",
       "\n",
       "/* Toggleable style: style used for estimator/Pipeline/ColumnTransformer box that is\n",
       "clickable and can be expanded/collapsed.\n",
       "- Pipeline and ColumnTransformer use this feature and define the default style\n",
       "- Estimators will overwrite some part of the style using the `sk-estimator` class\n",
       "*/\n",
       "\n",
       "/* Pipeline and ColumnTransformer style (default) */\n",
       "\n",
       "#sk-container-id-5 div.sk-toggleable {\n",
       "  /* Default theme specific background. It is overwritten whether we have a\n",
       "  specific estimator or a Pipeline/ColumnTransformer */\n",
       "  background-color: var(--sklearn-color-background);\n",
       "}\n",
       "\n",
       "/* Toggleable label */\n",
       "#sk-container-id-5 label.sk-toggleable__label {\n",
       "  cursor: pointer;\n",
       "  display: flex;\n",
       "  width: 100%;\n",
       "  margin-bottom: 0;\n",
       "  padding: 0.5em;\n",
       "  box-sizing: border-box;\n",
       "  text-align: center;\n",
       "  align-items: start;\n",
       "  justify-content: space-between;\n",
       "  gap: 0.5em;\n",
       "}\n",
       "\n",
       "#sk-container-id-5 label.sk-toggleable__label .caption {\n",
       "  font-size: 0.6rem;\n",
       "  font-weight: lighter;\n",
       "  color: var(--sklearn-color-text-muted);\n",
       "}\n",
       "\n",
       "#sk-container-id-5 label.sk-toggleable__label-arrow:before {\n",
       "  /* Arrow on the left of the label */\n",
       "  content: \"▸\";\n",
       "  float: left;\n",
       "  margin-right: 0.25em;\n",
       "  color: var(--sklearn-color-icon);\n",
       "}\n",
       "\n",
       "#sk-container-id-5 label.sk-toggleable__label-arrow:hover:before {\n",
       "  color: var(--sklearn-color-text);\n",
       "}\n",
       "\n",
       "/* Toggleable content - dropdown */\n",
       "\n",
       "#sk-container-id-5 div.sk-toggleable__content {\n",
       "  max-height: 0;\n",
       "  max-width: 0;\n",
       "  overflow: hidden;\n",
       "  text-align: left;\n",
       "  /* unfitted */\n",
       "  background-color: var(--sklearn-color-unfitted-level-0);\n",
       "}\n",
       "\n",
       "#sk-container-id-5 div.sk-toggleable__content.fitted {\n",
       "  /* fitted */\n",
       "  background-color: var(--sklearn-color-fitted-level-0);\n",
       "}\n",
       "\n",
       "#sk-container-id-5 div.sk-toggleable__content pre {\n",
       "  margin: 0.2em;\n",
       "  border-radius: 0.25em;\n",
       "  color: var(--sklearn-color-text);\n",
       "  /* unfitted */\n",
       "  background-color: var(--sklearn-color-unfitted-level-0);\n",
       "}\n",
       "\n",
       "#sk-container-id-5 div.sk-toggleable__content.fitted pre {\n",
       "  /* unfitted */\n",
       "  background-color: var(--sklearn-color-fitted-level-0);\n",
       "}\n",
       "\n",
       "#sk-container-id-5 input.sk-toggleable__control:checked~div.sk-toggleable__content {\n",
       "  /* Expand drop-down */\n",
       "  max-height: 200px;\n",
       "  max-width: 100%;\n",
       "  overflow: auto;\n",
       "}\n",
       "\n",
       "#sk-container-id-5 input.sk-toggleable__control:checked~label.sk-toggleable__label-arrow:before {\n",
       "  content: \"▾\";\n",
       "}\n",
       "\n",
       "/* Pipeline/ColumnTransformer-specific style */\n",
       "\n",
       "#sk-container-id-5 div.sk-label input.sk-toggleable__control:checked~label.sk-toggleable__label {\n",
       "  color: var(--sklearn-color-text);\n",
       "  background-color: var(--sklearn-color-unfitted-level-2);\n",
       "}\n",
       "\n",
       "#sk-container-id-5 div.sk-label.fitted input.sk-toggleable__control:checked~label.sk-toggleable__label {\n",
       "  background-color: var(--sklearn-color-fitted-level-2);\n",
       "}\n",
       "\n",
       "/* Estimator-specific style */\n",
       "\n",
       "/* Colorize estimator box */\n",
       "#sk-container-id-5 div.sk-estimator input.sk-toggleable__control:checked~label.sk-toggleable__label {\n",
       "  /* unfitted */\n",
       "  background-color: var(--sklearn-color-unfitted-level-2);\n",
       "}\n",
       "\n",
       "#sk-container-id-5 div.sk-estimator.fitted input.sk-toggleable__control:checked~label.sk-toggleable__label {\n",
       "  /* fitted */\n",
       "  background-color: var(--sklearn-color-fitted-level-2);\n",
       "}\n",
       "\n",
       "#sk-container-id-5 div.sk-label label.sk-toggleable__label,\n",
       "#sk-container-id-5 div.sk-label label {\n",
       "  /* The background is the default theme color */\n",
       "  color: var(--sklearn-color-text-on-default-background);\n",
       "}\n",
       "\n",
       "/* On hover, darken the color of the background */\n",
       "#sk-container-id-5 div.sk-label:hover label.sk-toggleable__label {\n",
       "  color: var(--sklearn-color-text);\n",
       "  background-color: var(--sklearn-color-unfitted-level-2);\n",
       "}\n",
       "\n",
       "/* Label box, darken color on hover, fitted */\n",
       "#sk-container-id-5 div.sk-label.fitted:hover label.sk-toggleable__label.fitted {\n",
       "  color: var(--sklearn-color-text);\n",
       "  background-color: var(--sklearn-color-fitted-level-2);\n",
       "}\n",
       "\n",
       "/* Estimator label */\n",
       "\n",
       "#sk-container-id-5 div.sk-label label {\n",
       "  font-family: monospace;\n",
       "  font-weight: bold;\n",
       "  display: inline-block;\n",
       "  line-height: 1.2em;\n",
       "}\n",
       "\n",
       "#sk-container-id-5 div.sk-label-container {\n",
       "  text-align: center;\n",
       "}\n",
       "\n",
       "/* Estimator-specific */\n",
       "#sk-container-id-5 div.sk-estimator {\n",
       "  font-family: monospace;\n",
       "  border: 1px dotted var(--sklearn-color-border-box);\n",
       "  border-radius: 0.25em;\n",
       "  box-sizing: border-box;\n",
       "  margin-bottom: 0.5em;\n",
       "  /* unfitted */\n",
       "  background-color: var(--sklearn-color-unfitted-level-0);\n",
       "}\n",
       "\n",
       "#sk-container-id-5 div.sk-estimator.fitted {\n",
       "  /* fitted */\n",
       "  background-color: var(--sklearn-color-fitted-level-0);\n",
       "}\n",
       "\n",
       "/* on hover */\n",
       "#sk-container-id-5 div.sk-estimator:hover {\n",
       "  /* unfitted */\n",
       "  background-color: var(--sklearn-color-unfitted-level-2);\n",
       "}\n",
       "\n",
       "#sk-container-id-5 div.sk-estimator.fitted:hover {\n",
       "  /* fitted */\n",
       "  background-color: var(--sklearn-color-fitted-level-2);\n",
       "}\n",
       "\n",
       "/* Specification for estimator info (e.g. \"i\" and \"?\") */\n",
       "\n",
       "/* Common style for \"i\" and \"?\" */\n",
       "\n",
       ".sk-estimator-doc-link,\n",
       "a:link.sk-estimator-doc-link,\n",
       "a:visited.sk-estimator-doc-link {\n",
       "  float: right;\n",
       "  font-size: smaller;\n",
       "  line-height: 1em;\n",
       "  font-family: monospace;\n",
       "  background-color: var(--sklearn-color-background);\n",
       "  border-radius: 1em;\n",
       "  height: 1em;\n",
       "  width: 1em;\n",
       "  text-decoration: none !important;\n",
       "  margin-left: 0.5em;\n",
       "  text-align: center;\n",
       "  /* unfitted */\n",
       "  border: var(--sklearn-color-unfitted-level-1) 1pt solid;\n",
       "  color: var(--sklearn-color-unfitted-level-1);\n",
       "}\n",
       "\n",
       ".sk-estimator-doc-link.fitted,\n",
       "a:link.sk-estimator-doc-link.fitted,\n",
       "a:visited.sk-estimator-doc-link.fitted {\n",
       "  /* fitted */\n",
       "  border: var(--sklearn-color-fitted-level-1) 1pt solid;\n",
       "  color: var(--sklearn-color-fitted-level-1);\n",
       "}\n",
       "\n",
       "/* On hover */\n",
       "div.sk-estimator:hover .sk-estimator-doc-link:hover,\n",
       ".sk-estimator-doc-link:hover,\n",
       "div.sk-label-container:hover .sk-estimator-doc-link:hover,\n",
       ".sk-estimator-doc-link:hover {\n",
       "  /* unfitted */\n",
       "  background-color: var(--sklearn-color-unfitted-level-3);\n",
       "  color: var(--sklearn-color-background);\n",
       "  text-decoration: none;\n",
       "}\n",
       "\n",
       "div.sk-estimator.fitted:hover .sk-estimator-doc-link.fitted:hover,\n",
       ".sk-estimator-doc-link.fitted:hover,\n",
       "div.sk-label-container:hover .sk-estimator-doc-link.fitted:hover,\n",
       ".sk-estimator-doc-link.fitted:hover {\n",
       "  /* fitted */\n",
       "  background-color: var(--sklearn-color-fitted-level-3);\n",
       "  color: var(--sklearn-color-background);\n",
       "  text-decoration: none;\n",
       "}\n",
       "\n",
       "/* Span, style for the box shown on hovering the info icon */\n",
       ".sk-estimator-doc-link span {\n",
       "  display: none;\n",
       "  z-index: 9999;\n",
       "  position: relative;\n",
       "  font-weight: normal;\n",
       "  right: .2ex;\n",
       "  padding: .5ex;\n",
       "  margin: .5ex;\n",
       "  width: min-content;\n",
       "  min-width: 20ex;\n",
       "  max-width: 50ex;\n",
       "  color: var(--sklearn-color-text);\n",
       "  box-shadow: 2pt 2pt 4pt #999;\n",
       "  /* unfitted */\n",
       "  background: var(--sklearn-color-unfitted-level-0);\n",
       "  border: .5pt solid var(--sklearn-color-unfitted-level-3);\n",
       "}\n",
       "\n",
       ".sk-estimator-doc-link.fitted span {\n",
       "  /* fitted */\n",
       "  background: var(--sklearn-color-fitted-level-0);\n",
       "  border: var(--sklearn-color-fitted-level-3);\n",
       "}\n",
       "\n",
       ".sk-estimator-doc-link:hover span {\n",
       "  display: block;\n",
       "}\n",
       "\n",
       "/* \"?\"-specific style due to the `<a>` HTML tag */\n",
       "\n",
       "#sk-container-id-5 a.estimator_doc_link {\n",
       "  float: right;\n",
       "  font-size: 1rem;\n",
       "  line-height: 1em;\n",
       "  font-family: monospace;\n",
       "  background-color: var(--sklearn-color-background);\n",
       "  border-radius: 1rem;\n",
       "  height: 1rem;\n",
       "  width: 1rem;\n",
       "  text-decoration: none;\n",
       "  /* unfitted */\n",
       "  color: var(--sklearn-color-unfitted-level-1);\n",
       "  border: var(--sklearn-color-unfitted-level-1) 1pt solid;\n",
       "}\n",
       "\n",
       "#sk-container-id-5 a.estimator_doc_link.fitted {\n",
       "  /* fitted */\n",
       "  border: var(--sklearn-color-fitted-level-1) 1pt solid;\n",
       "  color: var(--sklearn-color-fitted-level-1);\n",
       "}\n",
       "\n",
       "/* On hover */\n",
       "#sk-container-id-5 a.estimator_doc_link:hover {\n",
       "  /* unfitted */\n",
       "  background-color: var(--sklearn-color-unfitted-level-3);\n",
       "  color: var(--sklearn-color-background);\n",
       "  text-decoration: none;\n",
       "}\n",
       "\n",
       "#sk-container-id-5 a.estimator_doc_link.fitted:hover {\n",
       "  /* fitted */\n",
       "  background-color: var(--sklearn-color-fitted-level-3);\n",
       "}\n",
       "</style><div id=\"sk-container-id-5\" class=\"sk-top-container\"><div class=\"sk-text-repr-fallback\"><pre>CalibratedClassifierCV(cv=&#x27;prefit&#x27;,\n",
       "                       estimator=LGBMClassifier(feature_fraction=0.9,\n",
       "                                                is_unbalanced=True,\n",
       "                                                learning_rate=0.01, max_depth=5,\n",
       "                                                metric=&#x27;auc&#x27;,\n",
       "                                                objective=&#x27;binary&#x27;,\n",
       "                                                subsample=0.8, verbose=-1))</pre><b>In a Jupyter environment, please rerun this cell to show the HTML representation or trust the notebook. <br />On GitHub, the HTML representation is unable to render, please try loading this page with nbviewer.org.</b></div><div class=\"sk-container\" hidden><div class=\"sk-item sk-dashed-wrapped\"><div class=\"sk-label-container\"><div class=\"sk-label fitted sk-toggleable\"><input class=\"sk-toggleable__control sk-hidden--visually\" id=\"sk-estimator-id-13\" type=\"checkbox\" ><label for=\"sk-estimator-id-13\" class=\"sk-toggleable__label fitted sk-toggleable__label-arrow\"><div><div>CalibratedClassifierCV</div></div><div><a class=\"sk-estimator-doc-link fitted\" rel=\"noreferrer\" target=\"_blank\" href=\"https://scikit-learn.org/1.6/modules/generated/sklearn.calibration.CalibratedClassifierCV.html\">?<span>Documentation for CalibratedClassifierCV</span></a><span class=\"sk-estimator-doc-link fitted\">i<span>Fitted</span></span></div></label><div class=\"sk-toggleable__content fitted\"><pre>CalibratedClassifierCV(cv=&#x27;prefit&#x27;,\n",
       "                       estimator=LGBMClassifier(feature_fraction=0.9,\n",
       "                                                is_unbalanced=True,\n",
       "                                                learning_rate=0.01, max_depth=5,\n",
       "                                                metric=&#x27;auc&#x27;,\n",
       "                                                objective=&#x27;binary&#x27;,\n",
       "                                                subsample=0.8, verbose=-1))</pre></div> </div></div><div class=\"sk-parallel\"><div class=\"sk-parallel-item\"><div class=\"sk-item\"><div class=\"sk-label-container\"><div class=\"sk-label fitted sk-toggleable\"><input class=\"sk-toggleable__control sk-hidden--visually\" id=\"sk-estimator-id-14\" type=\"checkbox\" ><label for=\"sk-estimator-id-14\" class=\"sk-toggleable__label fitted sk-toggleable__label-arrow\"><div><div>estimator: LGBMClassifier</div></div></label><div class=\"sk-toggleable__content fitted\"><pre>LGBMClassifier(feature_fraction=0.9, is_unbalanced=True, learning_rate=0.01,\n",
       "               max_depth=5, metric=&#x27;auc&#x27;, objective=&#x27;binary&#x27;, subsample=0.8,\n",
       "               verbose=-1)</pre></div> </div></div><div class=\"sk-serial\"><div class=\"sk-item\"><div class=\"sk-estimator fitted sk-toggleable\"><input class=\"sk-toggleable__control sk-hidden--visually\" id=\"sk-estimator-id-15\" type=\"checkbox\" ><label for=\"sk-estimator-id-15\" class=\"sk-toggleable__label fitted sk-toggleable__label-arrow\"><div><div>LGBMClassifier</div></div></label><div class=\"sk-toggleable__content fitted\"><pre>LGBMClassifier(feature_fraction=0.9, is_unbalanced=True, learning_rate=0.01,\n",
       "               max_depth=5, metric=&#x27;auc&#x27;, objective=&#x27;binary&#x27;, subsample=0.8,\n",
       "               verbose=-1)</pre></div> </div></div></div></div></div></div></div></div></div>"
      ],
      "text/plain": [
       "CalibratedClassifierCV(cv='prefit',\n",
       "                       estimator=LGBMClassifier(feature_fraction=0.9,\n",
       "                                                is_unbalanced=True,\n",
       "                                                learning_rate=0.01, max_depth=5,\n",
       "                                                metric='auc',\n",
       "                                                objective='binary',\n",
       "                                                subsample=0.8, verbose=-1))"
      ]
     },
     "execution_count": 277,
     "metadata": {},
     "output_type": "execute_result"
    }
   ],
   "source": [
    "\n",
    "best_params={'learning_rate': 0.01, 'num_leaves': 31, 'feature_fraction': 0.9,  \n",
    "          \"is_unbalanced\":True,\n",
    "          'max_depth': 5, 'subsample': 0.8, 'objective': 'binary',\n",
    "    'metric': \"auc\",\n",
    "    'verbose': -1,\n",
    "    'boosting_type': 'gbdt'}\n",
    "\n",
    "# Ajusta el modelo original\n",
    "model = lgb.LGBMClassifier(**best_params)\n",
    "model.fit(X_train_resampled, y_train_resampled)\n",
    "\n",
    "# Calibración\n",
    "smote_calibrated_model = CalibratedClassifierCV(model, method='sigmoid', cv='prefit')\n",
    "smote_calibrated_model.fit(X_val, y_val)"
   ]
  },
  {
   "cell_type": "code",
   "execution_count": 278,
   "metadata": {},
   "outputs": [
    {
     "name": "stdout",
     "output_type": "stream",
     "text": [
      "Umbral óptimo: 0.051500000000000004\n",
      "Costo total mínimo: 17.5\n"
     ]
    },
    {
     "data": {
      "image/png": "[encoded data removed]",
      "text/plain": [
       "<Figure size 1000x600 with 1 Axes>"
      ]
     },
     "metadata": {},
     "output_type": "display_data"
    }
   ],
   "source": [
    "# Calculamos el umbral óptimo para el modelo calibrado con SMOTE\n",
    "y_pred_val_proba = smote_calibrated_model.predict_proba(X_val)[:, 1]\n",
    "optimal_threshold, optimal_cost, thresholds, costs = calcular_umbral_optimo(y_val, y_pred_val_proba)\n",
    "\n",
    "\n",
    "print(f\"Umbral óptimo: {optimal_threshold}\")\n",
    "print(f\"Costo total mínimo: {optimal_cost}\")\n",
    "\n",
    "# Graficar el costo total en función del umbral\n",
    "plt.figure(figsize=(10, 6))\n",
    "plt.semilogy(thresholds, costs, label='Costo Total')\n",
    "plt.axvline(optimal_threshold, color='red', linestyle='--', label='Umbral Óptimo')\n",
    "plt.title('Costo Total vs Umbral (Escala Logarítmica)')\n",
    "plt.xlabel('Umbral')\n",
    "plt.ylabel('Costo Total (log)')\n",
    "plt.legend()\n",
    "plt.grid(True, which=\"both\", ls=\"-\")\n",
    "plt.show()\n"
   ]
  },
  {
   "cell_type": "code",
   "execution_count": 279,
   "metadata": {},
   "outputs": [
    {
     "name": "stdout",
     "output_type": "stream",
     "text": [
      "Matriz de confusión en el conjunto de prueba:\n",
      "Verdaderos Negativos (TN): 18664\n",
      "Falsos Positivos (FP): 0\n",
      "Falsos Negativos (FN): 11\n",
      "Verdaderos Positivos (TP): 0\n",
      "\n",
      "Costos en el conjunto de prueba:\n",
      "Costo por Falsos Negativos: 11.0\n",
      "Costo por Falsos Positivos: 0.0\n",
      "Costo por True Positives: 0.0\n",
      "Costo Total: 11.0\n"
     ]
    }
   ],
   "source": [
    "# Hacemos predicciones en el conjunto de prueba\n",
    "y_pred_test = smote_calibrated_model.predict(X_test)\n",
    "y_pred_test_binary = (y_pred_test >= optimal_threshold).astype(int)\n",
    "\n",
    "# Calculamos las métricas y costos\n",
    "tn, fp, fn, tp, cost_fn, cost_fp, total_cost = calcular_metricas_y_costos(y_test, y_pred_test_binary)"
   ]
  },
  {
   "cell_type": "code",
   "execution_count": 280,
   "metadata": {},
   "outputs": [
    {
     "data": {
      "text/plain": [
       "0    18675\n",
       "Name: count, dtype: int64"
      ]
     },
     "execution_count": 280,
     "metadata": {},
     "output_type": "execute_result"
    }
   ],
   "source": [
    "pd.Series(y_pred_test_binary).value_counts()"
   ]
  },
  {
   "cell_type": "code",
   "execution_count": 283,
   "metadata": {},
   "outputs": [
    {
     "name": "stdout",
     "output_type": "stream",
     "text": [
      "Análisis de predicciones en fallas conocidas:\n",
      "Total de fallas en train: 77\n",
      "Fallas correctamente identificadas: 20\n",
      "Fallas no identificadas: 57\n",
      "Porcentaje de detección: 25.97%\n"
     ]
    },
    {
     "data": {
      "image/png": "[encoded data removed]",
      "text/plain": [
       "<Figure size 1000x600 with 1 Axes>"
      ]
     },
     "metadata": {},
     "output_type": "display_data"
    }
   ],
   "source": [
    "# Seleccionamos las filas con fallas del conjunto de entrenamiento\n",
    "fallas_train = X_train[y_train == 1]\n",
    "\n",
    "# Hacemos predicciones sobre estas fallas\n",
    "pred_fallas = smote_calibrated_model.predict_proba(fallas_train)[:, 1]\n",
    "pred_fallas_binary = (pred_fallas >= optimal_threshold).astype(int)\n",
    "\n",
    "print(\"Análisis de predicciones en fallas conocidas:\")\n",
    "print(f\"Total de fallas en train: {len(fallas_train)}\")\n",
    "print(f\"Fallas correctamente identificadas: {sum(pred_fallas_binary == 1)}\")\n",
    "print(f\"Fallas no identificadas: {sum(pred_fallas_binary == 0)}\")\n",
    "print(f\"Porcentaje de detección: {(sum(pred_fallas_binary == 1)/len(fallas_train))*100:.2f}%\")\n",
    "\n",
    "# Mostramos la distribución de las probabilidades predichas\n",
    "plt.figure(figsize=(10, 6))\n",
    "plt.hist(pred_fallas, bins=50, edgecolor='black')\n",
    "plt.axvline(optimal_threshold, color='red', linestyle='--', label='Umbral Óptimo')\n",
    "plt.title('Distribución de Probabilidades Predichas para Fallas Conocidas')\n",
    "plt.xlabel('Probabilidad Predicha')\n",
    "plt.ylabel('Frecuencia')\n",
    "plt.legend()\n",
    "plt.grid(True)\n",
    "plt.show()\n"
   ]
  },
  {
   "cell_type": "markdown",
   "metadata": {},
   "source": [
    "El modelo no esta prediciendo fallas en el dataset de test, pero si detecta parcialmente las fallas en el dataset de train, lo que nos da una buena señal de que el modelo no ha aprendido simplemente a *predecir cero*.\n",
    "\n",
    "Existen mas tecnicas de sampling que se pueden explorar y otros modelos a considerar para su experimentación, pero considero que estos resultados ya son aceptables. "
   ]
  }
 ],
 "metadata": {
  "kernelspec": {
   "display_name": "challenge_tomas",
   "language": "python",
   "name": "python3"
  },
  "language_info": {
   "codemirror_mode": {
    "name": "ipython",
    "version": 3
   },
   "file_extension": ".py",
   "mimetype": "text/x-python",
   "name": "python",
   "nbconvert_exporter": "python",
   "pygments_lexer": "ipython3",
   "version": "3.12.9"
  }
 },
 "nbformat": 4,
 "nbformat_minor": 2
}
